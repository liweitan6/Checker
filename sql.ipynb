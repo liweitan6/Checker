{
 "cells": [
  {
   "cell_type": "code",
   "execution_count": 2,
   "metadata": {},
   "outputs": [],
   "source": [
    "import sqlite3\n",
    "\n",
    "# 连接到 SQLite 数据库（如果数据库文件不存在，则会创建一个新的数据库文件）\n",
    "conn = sqlite3.connect('example.db')\n",
    "cursor = conn.cursor()\n",
    "\n",
    "# 创建表\n",
    "cursor.execute('''\n",
    "CREATE TABLE IF NOT EXISTS users (\n",
    "    id INTEGER PRIMARY KEY AUTOINCREMENT,\n",
    "    username TEXT NOT NULL,\n",
    "    password TEXT NOT NULL,\n",
    "    login_time TEXT\n",
    ")\n",
    "''')\n",
    "\n",
    "# 提交更改并关闭连接\n",
    "conn.commit()\n",
    "conn.close()\n",
    "\n"
   ]
  },
  {
   "cell_type": "code",
   "execution_count": 8,
   "metadata": {},
   "outputs": [],
   "source": [
    "import sqlite3\n",
    "from datetime import datetime\n",
    "\n",
    "def connectDB():\n",
    "    # 连接到 SQLite 数据库（如果数据库文件不存在，则会创建一个新的数据库文件）\n",
    "    conn = sqlite3.connect('example.db')\n",
    "    return conn\n",
    "\n",
    "def commit_close(conn):\n",
    "    # 提交更改并关闭连接\n",
    "    conn.commit()\n",
    "    conn.close()\n",
    "\n",
    "def create_table():\n",
    "    conn = connectDB()\n",
    "    cursor = conn.cursor()\n",
    "    # 创建表\n",
    "    cursor.execute('''\n",
    "    CREATE TABLE IF NOT EXISTS login (\n",
    "        username TEXT NOT NULL,\n",
    "        login_time TEXT NOT NULL\n",
    "    )\n",
    "    ''')\n",
    "    commit_close(conn)"
   ]
  },
  {
   "cell_type": "code",
   "execution_count": 10,
   "metadata": {},
   "outputs": [
    {
     "name": "stdout",
     "output_type": "stream",
     "text": [
      "2024-07-19 15:38:33\n"
     ]
    }
   ],
   "source": [
    "import sqlite3\n",
    "from datetime import datetime\n",
    "\n",
    "# 连接到数据库\n",
    "conn = sqlite3.connect('example.db')\n",
    "cursor = conn.cursor()\n",
    "create_table()\n",
    "\n",
    "# 插入数据\n",
    "username = 'admin'\n",
    "password = 'password'\n",
    "login_time = datetime.now().strftime('%Y-%m-%d %H:%M:%S')\n",
    "print(login_time)\n",
    "cursor.execute('''\n",
    "INSERT INTO login (username, login_time)\n",
    "VALUES (?, ?)\n",
    "''', (username, login_time))\n",
    "\n",
    "# inset into users (username, password, login_time) with values ('admin', 'password', '2020-01-01 00:00:00')\n",
    "\n",
    "# 提交更改并关闭连接\n",
    "conn.commit()\n",
    "conn.close()\n"
   ]
  },
  {
   "cell_type": "code",
   "execution_count": 4,
   "metadata": {},
   "outputs": [
    {
     "name": "stdout",
     "output_type": "stream",
     "text": [
      "(1, 'admin', 'password', '2024-07-19 15:13:03')\n"
     ]
    }
   ],
   "source": [
    "import sqlite3\n",
    "\n",
    "# 连接到数据库\n",
    "conn = sqlite3.connect('example.db')\n",
    "cursor = conn.cursor()\n",
    "\n",
    "# 查询数据\n",
    "cursor.execute('SELECT * FROM users')\n",
    "rows = cursor.fetchall()\n",
    "\n",
    "for row in rows:\n",
    "    print(row)\n",
    "\n",
    "# 关闭连接\n",
    "conn.close()\n"
   ]
  },
  {
   "cell_type": "code",
   "execution_count": 5,
   "metadata": {},
   "outputs": [],
   "source": [
    "import sqlite3\n",
    "\n",
    "# 连接到数据库\n",
    "conn = sqlite3.connect('example.db')\n",
    "cursor = conn.cursor()\n",
    "\n",
    "# 删除数据\n",
    "username = 'guest'\n",
    "cursor.execute('''\n",
    "DELETE FROM users WHERE username = ?\n",
    "''', (username,))\n",
    "\n",
    "# 提交更改并关闭连接\n",
    "conn.commit()\n",
    "conn.close()\n"
   ]
  },
  {
   "cell_type": "code",
   "execution_count": 1,
   "metadata": {},
   "outputs": [
    {
     "ename": "SystemExit",
     "evalue": "0",
     "output_type": "error",
     "traceback": [
      "An exception has occurred, use %tb to see the full traceback.\n",
      "\u001b[1;31mSystemExit\u001b[0m\u001b[1;31m:\u001b[0m 0\n"
     ]
    },
    {
     "name": "stderr",
     "output_type": "stream",
     "text": [
      "d:\\anaconda\\envs\\newEnv\\Lib\\site-packages\\IPython\\core\\interactiveshell.py:3585: UserWarning: To exit: use 'exit', 'quit', or Ctrl-D.\n",
      "  warn(\"To exit: use 'exit', 'quit', or Ctrl-D.\", stacklevel=1)\n"
     ]
    }
   ],
   "source": [
    "import sys\n",
    "from PyQt5.QtWidgets import QApplication, QMainWindow, QWidget, QVBoxLayout, QHBoxLayout, QGridLayout, QPushButton, QTableWidget, QTableWidgetItem, QTableWidgetItem\n",
    "\n",
    "class ExampleWindow(QMainWindow):\n",
    "    def __init__(self):\n",
    "        super().__init__()\n",
    "\n",
    "        self.initUI()\n",
    "\n",
    "    def initUI(self):\n",
    "        self.setWindowTitle('PyQt5 Layout Example')\n",
    "        self.setGeometry(100, 100, 800, 600)\n",
    "\n",
    "        central_widget = QWidget()\n",
    "        self.setCentralWidget(central_widget)\n",
    "\n",
    "        # 创建布局\n",
    "        vbox = QVBoxLayout()  # 垂直布局\n",
    "        hbox = QHBoxLayout()  # 水平布局\n",
    "        grid = QGridLayout()  # 网格布局\n",
    "\n",
    "        # 创建按钮\n",
    "        button1 = QPushButton('Button 1', self)\n",
    "        button2 = QPushButton('Button 2', self)\n",
    "        button3 = QPushButton('Button 3', self)\n",
    "        button4 = QPushButton('Button 4', self)\n",
    "\n",
    "        # 创建表格\n",
    "        table = QTableWidget(3, 3)\n",
    "        table.setHorizontalHeaderLabels(['Column 1', 'Column 2', 'Column 3'])\n",
    "        table.setItem(0, 0, QTableWidgetItem('Item (0, 0)'))\n",
    "        table.setItem(0, 1, QTableWidgetItem('Item (0, 1)'))\n",
    "        table.setItem(0, 2, QTableWidgetItem('Item (0, 2)'))\n",
    "        table.setItem(1, 0, QTableWidgetItem('Item (1, 0)'))\n",
    "        table.setItem(1, 1, QTableWidgetItem('Item (1, 1)'))\n",
    "        table.setItem(1, 2, QTableWidgetItem('Item (1, 2)'))\n",
    "        table.setItem(2, 0, QTableWidgetItem('Item (2, 0)'))\n",
    "        table.setItem(2, 1, QTableWidgetItem('Item (2, 1)'))\n",
    "        table.setItem(2, 2, QTableWidgetItem('Item (2, 2)'))\n",
    "\n",
    "        # 添加控件到水平布局\n",
    "        vbox.addWidget(button1)\n",
    "        vbox.addWidget(button2)\n",
    "        vbox.addWidget(button3)\n",
    "        vbox.addWidget(button4)\n",
    "\n",
    "        \n",
    "        # 创建一个顶级垂直布局，将表格和其他布局添加进来\n",
    "        vbox.addLayout(hbox)\n",
    "        vbox.addWidget(table)\n",
    "        vbox.addLayout(grid)\n",
    "\n",
    "        central_widget.setLayout(vbox)\n",
    "\n",
    "        self.show()\n",
    "\n",
    "if __name__ == '__main__':\n",
    "    app = QApplication(sys.argv)\n",
    "    ex = ExampleWindow()\n",
    "    sys.exit(app.exec_())\n"
   ]
  },
  {
   "cell_type": "code",
   "execution_count": 1,
   "metadata": {},
   "outputs": [
    {
     "ename": "SystemExit",
     "evalue": "0",
     "output_type": "error",
     "traceback": [
      "An exception has occurred, use %tb to see the full traceback.\n",
      "\u001b[1;31mSystemExit\u001b[0m\u001b[1;31m:\u001b[0m 0\n"
     ]
    },
    {
     "name": "stderr",
     "output_type": "stream",
     "text": [
      "d:\\anaconda\\envs\\newEnv\\Lib\\site-packages\\IPython\\core\\interactiveshell.py:3585: UserWarning: To exit: use 'exit', 'quit', or Ctrl-D.\n",
      "  warn(\"To exit: use 'exit', 'quit', or Ctrl-D.\", stacklevel=1)\n"
     ]
    }
   ],
   "source": [
    "import sys\n",
    "from PyQt5.QtWidgets import QApplication, QMainWindow, QWidget, QVBoxLayout, QHBoxLayout, QGridLayout, QTableWidget, QTableWidgetItem, QPushButton, QLabel, QLineEdit, QFormLayout\n",
    "\n",
    "class ComplexLayoutExample(QMainWindow):\n",
    "    def __init__(self):\n",
    "        super().__init__()\n",
    "        self.initUI()\n",
    "\n",
    "    def initUI(self):\n",
    "        self.setWindowTitle('Complex Layout Example')\n",
    "        self.setGeometry(100, 100, 800, 600)\n",
    "\n",
    "        central_widget = QWidget()\n",
    "        self.setCentralWidget(central_widget)\n",
    "\n",
    "        main_layout = QHBoxLayout()  # 主布局为水平布局\n",
    "\n",
    "        # 左侧垂直按钮布局\n",
    "        left_vbox = QVBoxLayout()\n",
    "        left_vbox.addWidget(QPushButton('Button 1'))\n",
    "        left_vbox.addWidget(QPushButton('Button 2'))\n",
    "        left_vbox.addWidget(QPushButton('Button 3'))\n",
    "        left_vbox.addWidget(QPushButton('Button 4'))\n",
    "        \n",
    "        main_layout.addLayout(left_vbox)  # 将左侧按钮布局添加到主布局\n",
    "\n",
    "        # 中央区域（包含表格）\n",
    "        table = QTableWidget(5, 3)\n",
    "        table.setHorizontalHeaderLabels(['Column 1', 'Column 2', 'Column 3'])\n",
    "        for i in range(5):\n",
    "            for j in range(3):\n",
    "                table.setItem(i, j, QTableWidgetItem(f'Item ({i}, {j})'))\n",
    "\n",
    "        main_layout.addWidget(table)  # 将表格添加到主布局的中央\n",
    "\n",
    "        # 右侧垂直布局\n",
    "        right_vbox = QVBoxLayout()\n",
    "        \n",
    "        # 表单布局（嵌入右侧垂直布局中）\n",
    "        form_layout = QFormLayout()\n",
    "        form_layout.addRow('Name:', QLineEdit())\n",
    "        form_layout.addRow('Age:', QLineEdit())\n",
    "        right_vbox.addLayout(form_layout)\n",
    "\n",
    "        right_vbox.addWidget(QLabel('Other Controls:'))\n",
    "        right_vbox.addWidget(QPushButton('Action 1'))\n",
    "        right_vbox.addWidget(QPushButton('Action 2'))\n",
    "        \n",
    "        main_layout.addLayout(right_vbox)  # 将右侧布局添加到主布局\n",
    "\n",
    "        central_widget.setLayout(main_layout)\n",
    "\n",
    "        self.show()\n",
    "\n",
    "if __name__ == '__main__':\n",
    "    app = QApplication(sys.argv)\n",
    "    window = ComplexLayoutExample()\n",
    "    window.show()\n",
    "    sys.exit(app.exec_())\n"
   ]
  },
  {
   "cell_type": "code",
   "execution_count": 1,
   "metadata": {},
   "outputs": [
    {
     "ename": "SystemExit",
     "evalue": "0",
     "output_type": "error",
     "traceback": [
      "An exception has occurred, use %tb to see the full traceback.\n",
      "\u001b[1;31mSystemExit\u001b[0m\u001b[1;31m:\u001b[0m 0\n"
     ]
    },
    {
     "name": "stderr",
     "output_type": "stream",
     "text": [
      "d:\\anaconda\\envs\\newEnv\\Lib\\site-packages\\IPython\\core\\interactiveshell.py:3585: UserWarning: To exit: use 'exit', 'quit', or Ctrl-D.\n",
      "  warn(\"To exit: use 'exit', 'quit', or Ctrl-D.\", stacklevel=1)\n"
     ]
    }
   ],
   "source": [
    "import sys\n",
    "from PyQt5.QtWidgets import QApplication, QMainWindow, QWidget, QGridLayout, QPushButton\n",
    "\n",
    "class FourGridLayoutExample(QMainWindow):\n",
    "    def __init__(self):\n",
    "        super().__init__()\n",
    "        self.initUI()\n",
    "\n",
    "    def initUI(self):\n",
    "        self.setWindowTitle('Four Grid Layout Example')\n",
    "        self.setGeometry(100, 100, 400, 300)\n",
    "\n",
    "        central_widget = QWidget()\n",
    "        self.setCentralWidget(central_widget)\n",
    "\n",
    "        # 创建网格布局\n",
    "        grid_layout = QGridLayout()\n",
    "\n",
    "        # 创建按钮并添加到网格布局的不同位置\n",
    "        button1 = QPushButton('Button 1', self)\n",
    "        button2 = QPushButton('Button 2', self)\n",
    "        button3 = QPushButton('Button 3', self)\n",
    "        button4 = QPushButton('Button 4', self)\n",
    "\n",
    "        grid_layout.addWidget(button1, 0, 0)  # 第一行第一列\n",
    "        grid_layout.addWidget(button2, 0, 1)  # 第一行第二列\n",
    "        grid_layout.addWidget(button3, 1, 0)  # 第二行第一列\n",
    "        grid_layout.addWidget(button4, 1, 1)  # 第二行第二列\n",
    "\n",
    "        central_widget.setLayout(grid_layout)\n",
    "\n",
    "        self.show()\n",
    "\n",
    "if __name__ == '__main__':\n",
    "    app = QApplication(sys.argv)\n",
    "    window = FourGridLayoutExample()\n",
    "    window.show()\n",
    "    sys.exit(app.exec_())\n"
   ]
  },
  {
   "cell_type": "code",
   "execution_count": 1,
   "metadata": {},
   "outputs": [
    {
     "ename": "SystemExit",
     "evalue": "0",
     "output_type": "error",
     "traceback": [
      "An exception has occurred, use %tb to see the full traceback.\n",
      "\u001b[1;31mSystemExit\u001b[0m\u001b[1;31m:\u001b[0m 0\n"
     ]
    },
    {
     "name": "stderr",
     "output_type": "stream",
     "text": [
      "d:\\anaconda\\envs\\newEnv\\Lib\\site-packages\\IPython\\core\\interactiveshell.py:3585: UserWarning: To exit: use 'exit', 'quit', or Ctrl-D.\n",
      "  warn(\"To exit: use 'exit', 'quit', or Ctrl-D.\", stacklevel=1)\n"
     ]
    }
   ],
   "source": [
    "import sys\n",
    "from PyQt5.QtWidgets import QApplication, QMainWindow, QWidget, QGridLayout, QVBoxLayout, QHBoxLayout, QPushButton, QLabel, QLineEdit, QComboBox\n",
    "\n",
    "class ComplexFourGridLayoutExample(QMainWindow):\n",
    "    def __init__(self):\n",
    "        super().__init__()\n",
    "        self.initUI()\n",
    "\n",
    "    def initUI(self):\n",
    "        self.setWindowTitle('Complex Four Grid Layout Example')\n",
    "        self.setGeometry(100, 100, 800, 600)\n",
    "\n",
    "        central_widget = QWidget()\n",
    "        self.setCentralWidget(central_widget)\n",
    "\n",
    "        # 创建网格布局\n",
    "        grid_layout = QGridLayout()\n",
    "\n",
    "        # 第一个格子：垂直布局，包含标签和输入框\n",
    "        vbox1 = QVBoxLayout()\n",
    "        label1 = QLabel('Name:')\n",
    "        line_edit1 = QLineEdit()\n",
    "        vbox1.addWidget(label1)\n",
    "        vbox1.addWidget(line_edit1)\n",
    "        grid_layout.addLayout(vbox1, 0, 0)\n",
    "\n",
    "        # 第二个格子：水平布局，包含两个按钮\n",
    "        hbox1 = QHBoxLayout()\n",
    "        button1 = QPushButton('Button 1')\n",
    "        button2 = QPushButton('Button 2')\n",
    "        hbox1.addWidget(button1)\n",
    "        hbox1.addWidget(button2)\n",
    "        grid_layout.addLayout(hbox1, 0, 1)\n",
    "\n",
    "        # 第三个格子：垂直布局，包含标签、输入框和下拉菜单\n",
    "        vbox2 = QVBoxLayout()\n",
    "        label2 = QLabel('Age:')\n",
    "        line_edit2 = QLineEdit()\n",
    "        combo_box = QComboBox()\n",
    "        combo_box.addItems(['Option 1', 'Option 2', 'Option 3'])\n",
    "        vbox2.addWidget(label2)\n",
    "        vbox2.addWidget(line_edit2)\n",
    "        vbox2.addWidget(combo_box)\n",
    "        grid_layout.addLayout(vbox2, 1, 0)\n",
    "\n",
    "        # 第四个格子：垂直布局，包含一个按钮和一个标签\n",
    "        vbox3 = QVBoxLayout()\n",
    "        button3 = QPushButton('Button 3')\n",
    "        label3 = QLabel('Some Information')\n",
    "        vbox3.addWidget(button3)\n",
    "        vbox3.addWidget(label3)\n",
    "        grid_layout.addLayout(vbox3, 1, 1)\n",
    "\n",
    "\n",
    "        central_widget.setLayout(grid_layout)\n",
    "\n",
    "        grid_layout.setRowMinimumHeight(0, 100)\n",
    "        grid_layout.setRowMinimumHeight(1, 400)\n",
    "        grid_layout.setRowMaximumHeight(1, 400)\n",
    "        grid_layout.setColumnMinimumWidth(0, 800)\n",
    "        grid_layout.setColumnMinimumWidth(1, 400)\n",
    "        self.show()\n",
    "\n",
    "if __name__ == '__main__':\n",
    "    app = QApplication(sys.argv)\n",
    "    window = ComplexFourGridLayoutExample()\n",
    "    window.show()\n",
    "    sys.exit(app.exec_())\n"
   ]
  },
  {
   "cell_type": "code",
   "execution_count": null,
   "metadata": {},
   "outputs": [],
   "source": []
  }
 ],
 "metadata": {
  "kernelspec": {
   "display_name": "Python 3",
   "language": "python",
   "name": "python3"
  },
  "language_info": {
   "codemirror_mode": {
    "name": "ipython",
    "version": 3
   },
   "file_extension": ".py",
   "mimetype": "text/x-python",
   "name": "python",
   "nbconvert_exporter": "python",
   "pygments_lexer": "ipython3",
   "version": "3.12.3"
  }
 },
 "nbformat": 4,
 "nbformat_minor": 2
}
